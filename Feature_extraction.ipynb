{
 "cells": [
  {
   "cell_type": "code",
   "execution_count": 62,
   "metadata": {
    "colab": {
     "base_uri": "https://localhost:8080/",
     "height": 538
    },
    "colab_type": "code",
    "executionInfo": {
     "elapsed": 10098,
     "status": "ok",
     "timestamp": 1554193878123,
     "user": {
      "displayName": "조경제",
      "photoUrl": "",
      "userId": "15069193871467898037"
     },
     "user_tz": -540
    },
    "id": "NXaiXnWRuJiF",
    "outputId": "873008b5-2fa7-494a-a34f-b2b91d5fcf5a"
   },
   "outputs": [
    {
     "data": {
      "image/png": "[encoded data removed]",
      "text/plain": [
       "<Figure size 1440x1224 with 2 Axes>"
      ]
     },
     "metadata": {
      "tags": []
     },
     "output_type": "display_data"
    }
   ],
   "source": [
    "# 코너 추출 \n",
    "import cv2\n",
    "\n",
    "import numpy as np\n",
    "\n",
    "import matplotlib.pyplot as plt\n",
    "\n",
    "\n",
    "\n",
    "img = cv2.imread('test4.png') # 결과를 보기 쉽도록 체스판 그림을 사용했습니다.\n",
    "\n",
    "img_rgb = cv2.cvtColor(img, cv2.COLOR_BGR2RGB)\n",
    "\n",
    "img_gray = cv2.cvtColor(img, cv2.COLOR_BGR2GRAY) # 꼭짓점 추출에는 흑백 그림이 필요합니다.\n",
    "\n",
    "img_corner = cv2.cvtColor(img, cv2.COLOR_BGR2RGB) # 나중에 꼭짓점을 여기에 표시합니다.\n",
    "\n",
    "\n",
    "\n",
    "img_gray = np.float32(img_gray) # 넘파이(numpy)를 사용해서 자료형을 부동소수점으로 바꾸어주어야 합니다.\n",
    "\n",
    "result = cv2.cornerHarris(img_gray, 2, 3, 0.04) # 2, 3, 0.04는 바꿀 수 있는 인자들입니다.\n",
    "\n",
    "# print(result.shape)\n",
    "\"\"\"\n",
    "for i, data in enumerate(result):\n",
    "    for j, d in enumerate(data):\n",
    "        if d != 0:\n",
    "            print(i, j)\n",
    "\"\"\"         \n",
    "#result = cv2.dilate(result, None, iterations=6) # 꼭짓점을 표시하기 위해 확장 (dilate) 연산을 합니다.\n",
    "#print(result.shape)\n",
    "img_corner[result>0.01*result.max()]=[255, 0, 0] # 꼭짓점이 빨간색 점으로 그림에 표시됩니다.\n",
    "\n",
    "\n",
    "# 이 아래 부분은 그림을 화면에 출력하기 위한 부분으로, OpenCV 알고리즘과는 상관이 없습니다.\n",
    "plt.figure(figsize=(20,17))\n",
    "\n",
    "plt.subplot(1, 2, 1) # 1행 2열에서 1번째 열\n",
    "\n",
    "plt.imshow(img_rgb)\n",
    "\n",
    "plt.xticks([]) # x축 좌표 숨김\n",
    "\n",
    "plt.yticks([]) # y축 좌표 숨김\n",
    "\n",
    "\n",
    "\n",
    "plt.subplot(1, 2, 2) # 1행 2열에서 2번째 열\n",
    "\n",
    "plt.imshow(img_corner)\n",
    "\n",
    "plt.xticks([]) # x축 좌표 숨김\n",
    "\n",
    "plt.yticks([]) # y축 좌표 숨김\n",
    "\n",
    "#plt.subplot(2, 2, 3) # 1행 2열에서 2번째 열\n",
    "\n",
    "#plt.imshow(result)\n",
    "plt.show()\n",
    "\n",
    "# 출처: https://crmn.tistory.com/57 [크롬망간이 글 쓰는 공간]"
   ]
  },
  {
   "cell_type": "code",
   "execution_count": 169,
   "metadata": {
    "colab": {
     "base_uri": "https://localhost:8080/",
     "height": 351
    },
    "colab_type": "code",
    "collapsed": true,
    "executionInfo": {
     "elapsed": 995,
     "status": "ok",
     "timestamp": 1554188641202,
     "user": {
      "displayName": "조경제",
      "photoUrl": "",
      "userId": "15069193871467898037"
     },
     "user_tz": -540
    },
    "id": "UYl9PsOHw5aR",
    "outputId": "a8d459fb-3ad1-4ab4-f136-1eef357d7db0"
   },
   "outputs": [],
   "source": [
    "import numpy as np\n",
    "import cv2\n",
    "from os import listdir\n",
    "import os\n",
    "#thresh, im_bw = cv2.threshold(im2, 127, 255, cv2.THRESH_BINARY) #im_bw: binary image \n",
    "#im3, contours, hierarchy = cv2.findContours(im_bw,cv2.RETR_TREE, cv2.CHAIN_APPROX_NONE) \n",
    "#cv2.drawContours(im2, contours, -1, (0,255,0), 3) \n",
    "#plt.imshow(im2,cmap='gray') #without the code, only an array displayed in the console \n",
    "\n",
    "def contour_approx(path):\n",
    "    imgfile = './data/raw/' + path # './data/zoom/number_2/zoom_gl_5.png'\n",
    "    img = cv2.imread(imgfile)\n",
    "    img2 = img.copy()\n",
    "    empty_img = np.zeros(img.shape) + 255\n",
    "    img_gray = cv2.cvtColor(img, cv2.COLOR_BGR2GRAY)\n",
    "    \n",
    "    ret, thr = cv2.threshold(img_gray, 127, 255, 0)\n",
    "    contours, hierarchy = cv2.findContours(thr, cv2.RETR_TREE, cv2.CHAIN_APPROX_SIMPLE)\n",
    "    cnt = contours[0]\n",
    "    cv2.drawContours(empty_img, contours[1], -1, (0, 255, 0), 3)\n",
    "    \n",
    "    #plt.imshow(empty_img)\n",
    "    cv2.imwrite('./data/contour/' + path, empty_img)\n",
    "    \n",
    "if __name__ == '__main__':\n",
    "    files = listdir('./data/raw')\n",
    "    for file in files:\n",
    "        contour_approx(file)\n",
    "    \n",
    "    "
   ]
  },
  {
   "cell_type": "code",
   "execution_count": 7,
   "metadata": {
    "colab": {
     "base_uri": "https://localhost:8080/",
     "height": 383
    },
    "colab_type": "code",
    "executionInfo": {
     "elapsed": 926,
     "status": "error",
     "timestamp": 1554189222080,
     "user": {
      "displayName": "조경제",
      "photoUrl": "",
      "userId": "15069193871467898037"
     },
     "user_tz": -540
    },
    "id": "zSTPUKuJ18o5",
    "outputId": "1a001b6f-2042-4d60-9ab1-b332dfc8194b"
   },
   "outputs": [
    {
     "ename": "AttributeError",
     "evalue": "'NoneType' object has no attribute 'copy'",
     "output_type": "error",
     "traceback": [
      "\u001b[1;31m---------------------------------------------------------------------------\u001b[0m",
      "\u001b[1;31mAttributeError\u001b[0m                            Traceback (most recent call last)",
      "\u001b[1;32m<ipython-input-7-c137d695bfab>\u001b[0m in \u001b[0;36m<module>\u001b[1;34m()\u001b[0m\n\u001b[0;32m     32\u001b[0m \u001b[1;33m\u001b[0m\u001b[0m\n\u001b[0;32m     33\u001b[0m \u001b[1;32mif\u001b[0m \u001b[0m__name__\u001b[0m \u001b[1;33m==\u001b[0m \u001b[1;34m'__main__'\u001b[0m\u001b[1;33m:\u001b[0m\u001b[1;33m\u001b[0m\u001b[0m\n\u001b[1;32m---> 34\u001b[1;33m     \u001b[0mcontour_approx\u001b[0m\u001b[1;33m(\u001b[0m\u001b[1;33m)\u001b[0m\u001b[1;33m\u001b[0m\u001b[0m\n\u001b[0m\u001b[0;32m     35\u001b[0m \u001b[1;33m\u001b[0m\u001b[0m\n\u001b[0;32m     36\u001b[0m \u001b[1;33m\u001b[0m\u001b[0m\n",
      "\u001b[1;32m<ipython-input-7-c137d695bfab>\u001b[0m in \u001b[0;36mcontour_approx\u001b[1;34m()\u001b[0m\n\u001b[0;32m      5\u001b[0m     \u001b[0mimgfile\u001b[0m \u001b[1;33m=\u001b[0m \u001b[1;34m'test0.png'\u001b[0m\u001b[1;33m\u001b[0m\u001b[0m\n\u001b[0;32m      6\u001b[0m     \u001b[0mimg\u001b[0m \u001b[1;33m=\u001b[0m \u001b[0mcv2\u001b[0m\u001b[1;33m.\u001b[0m\u001b[0mimread\u001b[0m\u001b[1;33m(\u001b[0m\u001b[0mimgfile\u001b[0m\u001b[1;33m)\u001b[0m\u001b[1;33m\u001b[0m\u001b[0m\n\u001b[1;32m----> 7\u001b[1;33m     \u001b[0mimg2\u001b[0m \u001b[1;33m=\u001b[0m \u001b[0mimg\u001b[0m\u001b[1;33m.\u001b[0m\u001b[0mcopy\u001b[0m\u001b[1;33m(\u001b[0m\u001b[1;33m)\u001b[0m\u001b[1;33m\u001b[0m\u001b[0m\n\u001b[0m\u001b[0;32m      8\u001b[0m \u001b[1;33m\u001b[0m\u001b[0m\n\u001b[0;32m      9\u001b[0m     \u001b[0mimg_gray\u001b[0m \u001b[1;33m=\u001b[0m \u001b[0mcv2\u001b[0m\u001b[1;33m.\u001b[0m\u001b[0mcvtColor\u001b[0m\u001b[1;33m(\u001b[0m\u001b[0mimg\u001b[0m\u001b[1;33m,\u001b[0m \u001b[0mcv2\u001b[0m\u001b[1;33m.\u001b[0m\u001b[0mCOLOR_BGR2GRAY\u001b[0m\u001b[1;33m)\u001b[0m\u001b[1;33m\u001b[0m\u001b[0m\n",
      "\u001b[1;31mAttributeError\u001b[0m: 'NoneType' object has no attribute 'copy'"
     ]
    }
   ],
   "source": [
    "import numpy as np\n",
    "import cv2\n",
    "\n",
    "def contour_approx():\n",
    "    imgfile = 'test0.png'\n",
    "    img = cv2.imread(imgfile)\n",
    "    img2 = img.copy()\n",
    "    \n",
    "    img_gray = cv2.cvtColor(img, cv2.COLOR_BGR2GRAY)\n",
    "    \n",
    "    ret, thr = cv2.threshold(img_gray, 127, 255, 0)\n",
    "    edge, contours, hierarchy = cv2.findContours(thr, cv2.RETR_TREE, \n",
    "                                                 cv2.CHAIN_APPROX_SIMPLE)\n",
    "    \n",
    "    cnt = contours[0]\n",
    "    \n",
    "    hull = cv2.convexHull(cnt)\n",
    "    cv2.drawContours(img, [hull], 0, (0, 0, 255), 2)\n",
    "    \n",
    "    hull = cv2.convexHull(cnt, returnPoints=False)\n",
    "    defects = cv2.convexityDefects(cnt, hull)\n",
    "    \n",
    "    for i in range(defects.shape[0]):\n",
    "        sp, ep, fp, dist = defects[i, 0]\n",
    "        start = tuple(cnt[sp][0])\n",
    "        end = tuple(cnt[ep][0])\n",
    "        farthest = tuple(cnt[fp][0])\n",
    "        \n",
    "        cv2.circle(img, farthest, 5, (0, 255, 0), -1)\n",
    "        \n",
    "    plt.imshow(img)\n",
    "\n",
    "if __name__ == '__main__':\n",
    "    contour_approx()\n",
    "    \n",
    "    "
   ]
  },
  {
   "cell_type": "code",
   "execution_count": 57,
   "metadata": {
    "colab": {
     "base_uri": "https://localhost:8080/",
     "height": 388
    },
    "colab_type": "code",
    "executionInfo": {
     "elapsed": 2106,
     "status": "ok",
     "timestamp": 1554191515012,
     "user": {
      "displayName": "조경제",
      "photoUrl": "",
      "userId": "15069193871467898037"
     },
     "user_tz": -540
    },
    "id": "-pCOpFOD5Qzj",
    "outputId": "8fbcac70-c944-414c-8907-7a20ac0a0f2c"
   },
   "outputs": [
    {
     "name": "stdout",
     "output_type": "stream",
     "text": [
      "(1, 1, 3)\n"
     ]
    },
    {
     "data": {
      "text/plain": [
       "<matplotlib.image.AxesImage at 0x7fcb2e207198>"
      ]
     },
     "execution_count": 57,
     "metadata": {
      "tags": []
     },
     "output_type": "execute_result"
    },
    {
     "data": {
      "image/png": "[encoded data removed]",
      "text/plain": [
       "<Figure size 576x396 with 1 Axes>"
      ]
     },
     "metadata": {
      "tags": []
     },
     "output_type": "display_data"
    }
   ],
   "source": [
    "# 원 검출\n",
    "# 출처 : https://webnautes.tistory.com/949\n",
    "import numpy as np\n",
    "import cv2 as cv\n",
    "\n",
    "img = cv.imread('test4.png',0)\n",
    "img = cv.medianBlur(img,5)\n",
    "cimg = cv.cvtColor(img,cv.COLOR_GRAY2BGR)\n",
    "\n",
    "circles = cv.HoughCircles(img,cv.HOUGH_GRADIENT,1,20,\n",
    "                            param1=50,param2=25,minRadius=0,maxRadius=0)\n",
    "print(circles.shape)\n",
    "circles = np.uint16(np.around(circles))\n",
    "\n",
    "for i in circles[0,:]:\n",
    "    # draw the outer circle\n",
    "    cv.circle(cimg,(i[0],i[1]),i[2],(0,255,0),2)\n",
    "    # draw the center of the circle\n",
    "    cv.circle(cimg,(i[0],i[1]),2,(0,0,255),3)\n",
    "\n",
    "plt.imshow(cimg)"
   ]
  },
  {
   "cell_type": "code",
   "execution_count": 33,
   "metadata": {
    "colab": {
     "base_uri": "https://localhost:8080/",
     "height": 278
    },
    "colab_type": "code",
    "executionInfo": {
     "elapsed": 2664,
     "status": "error",
     "timestamp": 1554190491982,
     "user": {
      "displayName": "조경제",
      "photoUrl": "",
      "userId": "15069193871467898037"
     },
     "user_tz": -540
    },
    "id": "gVjmEuOd8zbv",
    "outputId": "5a987cb8-b4d1-40d5-9fc4-dd138bce6973"
   },
   "outputs": [
    {
     "name": "stdout",
     "output_type": "stream",
     "text": [
      "None\n"
     ]
    },
    {
     "ename": "TypeError",
     "evalue": "ignored",
     "output_type": "error",
     "traceback": [
      "\u001b[0;31m---------------------------------------------------------------------------\u001b[0m",
      "\u001b[0;31mTypeError\u001b[0m                                 Traceback (most recent call last)",
      "\u001b[0;32m<ipython-input-33-0c6c7c3ef9b6>\u001b[0m in \u001b[0;36m<module>\u001b[0;34m()\u001b[0m\n\u001b[1;32m      8\u001b[0m \u001b[0mlines\u001b[0m \u001b[0;34m=\u001b[0m \u001b[0mcv2\u001b[0m\u001b[0;34m.\u001b[0m\u001b[0mHoughLines\u001b[0m\u001b[0;34m(\u001b[0m\u001b[0medges\u001b[0m\u001b[0;34m,\u001b[0m \u001b[0;36m1\u001b[0m\u001b[0;34m,\u001b[0m \u001b[0mnp\u001b[0m\u001b[0;34m.\u001b[0m\u001b[0mpi\u001b[0m\u001b[0;34m/\u001b[0m\u001b[0;36m180\u001b[0m\u001b[0;34m,\u001b[0m \u001b[0;36m200\u001b[0m\u001b[0;34m)\u001b[0m\u001b[0;34m\u001b[0m\u001b[0;34m\u001b[0m\u001b[0m\n\u001b[1;32m      9\u001b[0m \u001b[0mprint\u001b[0m\u001b[0;34m(\u001b[0m\u001b[0mlines\u001b[0m\u001b[0;34m)\u001b[0m\u001b[0;34m\u001b[0m\u001b[0;34m\u001b[0m\u001b[0m\n\u001b[0;32m---> 10\u001b[0;31m \u001b[0;32mfor\u001b[0m \u001b[0mrho\u001b[0m\u001b[0;34m,\u001b[0m\u001b[0mtheta\u001b[0m \u001b[0;32min\u001b[0m \u001b[0mlines\u001b[0m\u001b[0;34m[\u001b[0m\u001b[0;36m0\u001b[0m\u001b[0;34m]\u001b[0m\u001b[0;34m:\u001b[0m\u001b[0;34m\u001b[0m\u001b[0;34m\u001b[0m\u001b[0m\n\u001b[0m\u001b[1;32m     11\u001b[0m     \u001b[0ma\u001b[0m \u001b[0;34m=\u001b[0m \u001b[0mnp\u001b[0m\u001b[0;34m.\u001b[0m\u001b[0mcos\u001b[0m\u001b[0;34m(\u001b[0m\u001b[0mtheta\u001b[0m\u001b[0;34m)\u001b[0m\u001b[0;34m\u001b[0m\u001b[0;34m\u001b[0m\u001b[0m\n\u001b[1;32m     12\u001b[0m     \u001b[0mb\u001b[0m \u001b[0;34m=\u001b[0m \u001b[0mnp\u001b[0m\u001b[0;34m.\u001b[0m\u001b[0msin\u001b[0m\u001b[0;34m(\u001b[0m\u001b[0mtheta\u001b[0m\u001b[0;34m)\u001b[0m\u001b[0;34m\u001b[0m\u001b[0;34m\u001b[0m\u001b[0m\n",
      "\u001b[0;31mTypeError\u001b[0m: 'NoneType' object is not subscriptable"
     ]
    }
   ],
   "source": [
    "import cv2\n",
    "import numpy as np\n",
    "\n",
    "img = cv2.imread('1_궁.png')\n",
    "gray = cv2.cvtColor(img,cv2.COLOR_BGR2GRAY)\n",
    "edges = cv2.Canny(gray,50,150,apertureSize = 3)\n",
    "\n",
    "lines = cv2.HoughLines(edges, 1, np.pi/180, 200)\n",
    "print(lines)\n",
    "for rho,theta in lines[0]:\n",
    "    a = np.cos(theta)\n",
    "    b = np.sin(theta)\n",
    "    x0 = a*rho\n",
    "    y0 = b*rho\n",
    "    x1 = int(x0 + 1000*(-b))\n",
    "    y1 = int(y0 + 1000*(a))\n",
    "    x2 = int(x0 - 1000*(-b))\n",
    "    y2 = int(y0 - 1000*(a))\n",
    "\n",
    "    cv2.line(img,(x1,y1),(x2,y2),(0,0,255),2)\n",
    "\n",
    "plt.imshow(img)"
   ]
  },
  {
   "cell_type": "code",
   "execution_count": 34,
   "metadata": {
    "colab": {
     "base_uri": "https://localhost:8080/",
     "height": 259
    },
    "colab_type": "code",
    "executionInfo": {
     "elapsed": 2680,
     "status": "error",
     "timestamp": 1554190514968,
     "user": {
      "displayName": "조경제",
      "photoUrl": "",
      "userId": "15069193871467898037"
     },
     "user_tz": -540
    },
    "id": "HmIa754F9YhV",
    "outputId": "5f06fb6a-61f8-4eda-9187-86c49c337700"
   },
   "outputs": [
    {
     "ename": "TypeError",
     "evalue": "ignored",
     "output_type": "error",
     "traceback": [
      "\u001b[0;31m---------------------------------------------------------------------------\u001b[0m",
      "\u001b[0;31mTypeError\u001b[0m                                 Traceback (most recent call last)",
      "\u001b[0;32m<ipython-input-34-2de45fda311d>\u001b[0m in \u001b[0;36m<module>\u001b[0;34m()\u001b[0m\n\u001b[1;32m      8\u001b[0m \u001b[0mmaxLineGap\u001b[0m \u001b[0;34m=\u001b[0m \u001b[0;36m10\u001b[0m\u001b[0;34m\u001b[0m\u001b[0;34m\u001b[0m\u001b[0m\n\u001b[1;32m      9\u001b[0m \u001b[0mlines\u001b[0m \u001b[0;34m=\u001b[0m \u001b[0mcv2\u001b[0m\u001b[0;34m.\u001b[0m\u001b[0mHoughLinesP\u001b[0m\u001b[0;34m(\u001b[0m\u001b[0medges\u001b[0m\u001b[0;34m,\u001b[0m\u001b[0;36m1\u001b[0m\u001b[0;34m,\u001b[0m\u001b[0mnp\u001b[0m\u001b[0;34m.\u001b[0m\u001b[0mpi\u001b[0m\u001b[0;34m/\u001b[0m\u001b[0;36m180\u001b[0m\u001b[0;34m,\u001b[0m\u001b[0;36m100\u001b[0m\u001b[0;34m,\u001b[0m\u001b[0mminLineLength\u001b[0m\u001b[0;34m,\u001b[0m\u001b[0mmaxLineGap\u001b[0m\u001b[0;34m)\u001b[0m\u001b[0;34m\u001b[0m\u001b[0;34m\u001b[0m\u001b[0m\n\u001b[0;32m---> 10\u001b[0;31m \u001b[0;32mfor\u001b[0m \u001b[0mx1\u001b[0m\u001b[0;34m,\u001b[0m\u001b[0my1\u001b[0m\u001b[0;34m,\u001b[0m\u001b[0mx2\u001b[0m\u001b[0;34m,\u001b[0m\u001b[0my2\u001b[0m \u001b[0;32min\u001b[0m \u001b[0mlines\u001b[0m\u001b[0;34m[\u001b[0m\u001b[0;36m0\u001b[0m\u001b[0;34m]\u001b[0m\u001b[0;34m:\u001b[0m\u001b[0;34m\u001b[0m\u001b[0;34m\u001b[0m\u001b[0m\n\u001b[0m\u001b[1;32m     11\u001b[0m     \u001b[0mcv2\u001b[0m\u001b[0;34m.\u001b[0m\u001b[0mline\u001b[0m\u001b[0;34m(\u001b[0m\u001b[0mimg\u001b[0m\u001b[0;34m,\u001b[0m\u001b[0;34m(\u001b[0m\u001b[0mx1\u001b[0m\u001b[0;34m,\u001b[0m\u001b[0my1\u001b[0m\u001b[0;34m)\u001b[0m\u001b[0;34m,\u001b[0m\u001b[0;34m(\u001b[0m\u001b[0mx2\u001b[0m\u001b[0;34m,\u001b[0m\u001b[0my2\u001b[0m\u001b[0;34m)\u001b[0m\u001b[0;34m,\u001b[0m\u001b[0;34m(\u001b[0m\u001b[0;36m0\u001b[0m\u001b[0;34m,\u001b[0m\u001b[0;36m255\u001b[0m\u001b[0;34m,\u001b[0m\u001b[0;36m0\u001b[0m\u001b[0;34m)\u001b[0m\u001b[0;34m,\u001b[0m\u001b[0;36m2\u001b[0m\u001b[0;34m)\u001b[0m\u001b[0;34m\u001b[0m\u001b[0;34m\u001b[0m\u001b[0m\n\u001b[1;32m     12\u001b[0m \u001b[0;34m\u001b[0m\u001b[0m\n",
      "\u001b[0;31mTypeError\u001b[0m: 'NoneType' object is not subscriptable"
     ]
    }
   ],
   "source": [
    "import cv2\n",
    "import numpy as np\n",
    "\n",
    "img = cv2.imread('1_궁.png')\n",
    "gray = cv2.cvtColor(img,cv2.COLOR_BGR2GRAY)\n",
    "edges = cv2.Canny(gray,50,150,apertureSize = 3)\n",
    "minLineLength = 100\n",
    "maxLineGap = 10\n",
    "lines = cv2.HoughLinesP(edges,1,np.pi/180,100,minLineLength,maxLineGap)\n",
    "for x1,y1,x2,y2 in lines[0]:\n",
    "    cv2.line(img,(x1,y1),(x2,y2),(0,255,0),2)\n",
    "\n",
    "plt.imshow(img)"
   ]
  },
  {
   "cell_type": "code",
   "execution_count": 39,
   "metadata": {
    "colab": {
     "base_uri": "https://localhost:8080/",
     "height": 369
    },
    "colab_type": "code",
    "executionInfo": {
     "elapsed": 3147,
     "status": "ok",
     "timestamp": 1554190636575,
     "user": {
      "displayName": "조경제",
      "photoUrl": "",
      "userId": "15069193871467898037"
     },
     "user_tz": -540
    },
    "id": "f0tvZZwK-TBt",
    "outputId": "bc4a68b8-8772-4bd2-ddc0-7ee3254f5e7b"
   },
   "outputs": [
    {
     "data": {
      "text/plain": [
       "(313, 313, 3)"
      ]
     },
     "execution_count": 39,
     "metadata": {
      "tags": []
     },
     "output_type": "execute_result"
    },
    {
     "data": {
      "image/png": "[encoded data removed]",
      "text/plain": [
       "<Figure size 576x396 with 1 Axes>"
      ]
     },
     "metadata": {
      "tags": []
     },
     "output_type": "display_data"
    }
   ],
   "source": [
    "import numpy as np\n",
    "import cv2\n",
    "\n",
    "img = cv2.imread('1_궁.png')\n",
    "plt.imshow(img)\n",
    "\n",
    "img.shape"
   ]
  },
  {
   "cell_type": "code",
   "execution_count": 72,
   "metadata": {
    "colab": {},
    "colab_type": "code",
    "collapsed": true,
    "id": "BVCyLpVD-e31"
   },
   "outputs": [],
   "source": [
    "# 코너 추출 \n",
    "import cv2\n",
    "import numpy as np\n",
    "import matplotlib.pyplot as plt\n",
    "from sklearn.preprocessing import normalize \n",
    "%matplotlib inline\n",
    "\n",
    "# normalize(X, norm=’l2’, axis=1, copy=True, return_norm=False\n",
    "                                \n",
    "def corner_harris_feature_extraction(img_path):\n",
    "    img = cv2.imread('./data/raw/' + img_path)\n",
    "\n",
    "    img_rgb = cv2.cvtColor(img, cv2.COLOR_BGR2RGB)\n",
    "    img_gray = cv2.cvtColor(img, cv2.COLOR_BGR2GRAY) \n",
    "    img_corner = cv2.cvtColor(img, cv2.COLOR_BGR2RGB)\n",
    "    ret, thr = cv2.threshold(img_gray, 127, 255, 0)\n",
    "    \n",
    "    img_line = np.zeros(img.shape) + 255.\n",
    "    \n",
    "    img_gray = np.float32(thr) \n",
    "\n",
    "    result = cv2.cornerHarris(img_gray, 2, 3, 0.04)\n",
    "    \n",
    "    result_norm = normalize(result.reshape(-1, 1))\n",
    "    result_norm = result_norm.reshape(200, 200)\n",
    "    \n",
    "    img_corner[result>0.01*result.max()]=[255, 0, 0]\n",
    "    \n",
    "    img_line[result>0.001*result.max()]=[255, 0, 0]\n",
    "    img_line[result<0.001*result.min()]=[255, 0, 0]\n",
    "    print(result_norm.min(), result_norm.max())\n",
    "    \n",
    "    plt.figure(figsize=(20,17))\n",
    "    #plt.imshow(img_line)\n",
    "    cv2.imwrite('./data/corner/'+ img_path, img_line)"
   ]
  },
  {
   "cell_type": "code",
   "execution_count": 73,
   "metadata": {},
   "outputs": [
    {
     "name": "stdout",
     "output_type": "stream",
     "text": [
      "-1.0 1.0\n",
      "-1.0 1.0\n",
      "-1.0 1.0\n",
      "-1.0 1.0\n",
      "-1.0 1.0\n",
      "-1.0 1.0\n",
      "-1.0 1.0\n",
      "-1.0 1.0\n",
      "-1.0 1.0\n",
      "-1.0 1.0\n",
      "-1.0 1.0\n",
      "-1.0 1.0\n",
      "-1.0 1.0\n",
      "-1.0 1.0\n",
      "-1.0 1.0\n",
      "-1.0 1.0\n",
      "-1.0 1.0\n",
      "-1.0 1.0\n",
      "-1.0 1.0\n",
      "-1.0 1.0\n",
      "-1.0 1.0\n",
      "-1.0 1.0\n",
      "-1.0 1.0\n",
      "-1.0 1.0\n"
     ]
    },
    {
     "name": "stderr",
     "output_type": "stream",
     "text": [
      "C:\\Users\\user\\Anaconda3\\lib\\site-packages\\matplotlib\\pyplot.py:537: RuntimeWarning: More than 20 figures have been opened. Figures created through the pyplot interface (`matplotlib.pyplot.figure`) are retained until explicitly closed and may consume too much memory. (To control this warning, see the rcParam `figure.max_open_warning`).\n",
      "  max_open_warning, RuntimeWarning)\n",
      "C:\\Users\\user\\Anaconda3\\lib\\site-packages\\matplotlib\\pyplot.py:537: RuntimeWarning: More than 20 figures have been opened. Figures created through the pyplot interface (`matplotlib.pyplot.figure`) are retained until explicitly closed and may consume too much memory. (To control this warning, see the rcParam `figure.max_open_warning`).\n",
      "  max_open_warning, RuntimeWarning)\n",
      "C:\\Users\\user\\Anaconda3\\lib\\site-packages\\matplotlib\\pyplot.py:537: RuntimeWarning: More than 20 figures have been opened. Figures created through the pyplot interface (`matplotlib.pyplot.figure`) are retained until explicitly closed and may consume too much memory. (To control this warning, see the rcParam `figure.max_open_warning`).\n",
      "  max_open_warning, RuntimeWarning)\n",
      "C:\\Users\\user\\Anaconda3\\lib\\site-packages\\matplotlib\\pyplot.py:537: RuntimeWarning: More than 20 figures have been opened. Figures created through the pyplot interface (`matplotlib.pyplot.figure`) are retained until explicitly closed and may consume too much memory. (To control this warning, see the rcParam `figure.max_open_warning`).\n",
      "  max_open_warning, RuntimeWarning)\n",
      "C:\\Users\\user\\Anaconda3\\lib\\site-packages\\matplotlib\\pyplot.py:537: RuntimeWarning: More than 20 figures have been opened. Figures created through the pyplot interface (`matplotlib.pyplot.figure`) are retained until explicitly closed and may consume too much memory. (To control this warning, see the rcParam `figure.max_open_warning`).\n",
      "  max_open_warning, RuntimeWarning)\n",
      "C:\\Users\\user\\Anaconda3\\lib\\site-packages\\matplotlib\\pyplot.py:537: RuntimeWarning: More than 20 figures have been opened. Figures created through the pyplot interface (`matplotlib.pyplot.figure`) are retained until explicitly closed and may consume too much memory. (To control this warning, see the rcParam `figure.max_open_warning`).\n",
      "  max_open_warning, RuntimeWarning)\n",
      "C:\\Users\\user\\Anaconda3\\lib\\site-packages\\matplotlib\\pyplot.py:537: RuntimeWarning: More than 20 figures have been opened. Figures created through the pyplot interface (`matplotlib.pyplot.figure`) are retained until explicitly closed and may consume too much memory. (To control this warning, see the rcParam `figure.max_open_warning`).\n",
      "  max_open_warning, RuntimeWarning)\n",
      "C:\\Users\\user\\Anaconda3\\lib\\site-packages\\matplotlib\\pyplot.py:537: RuntimeWarning: More than 20 figures have been opened. Figures created through the pyplot interface (`matplotlib.pyplot.figure`) are retained until explicitly closed and may consume too much memory. (To control this warning, see the rcParam `figure.max_open_warning`).\n",
      "  max_open_warning, RuntimeWarning)\n",
      "C:\\Users\\user\\Anaconda3\\lib\\site-packages\\matplotlib\\pyplot.py:537: RuntimeWarning: More than 20 figures have been opened. Figures created through the pyplot interface (`matplotlib.pyplot.figure`) are retained until explicitly closed and may consume too much memory. (To control this warning, see the rcParam `figure.max_open_warning`).\n",
      "  max_open_warning, RuntimeWarning)\n",
      "C:\\Users\\user\\Anaconda3\\lib\\site-packages\\matplotlib\\pyplot.py:537: RuntimeWarning: More than 20 figures have been opened. Figures created through the pyplot interface (`matplotlib.pyplot.figure`) are retained until explicitly closed and may consume too much memory. (To control this warning, see the rcParam `figure.max_open_warning`).\n",
      "  max_open_warning, RuntimeWarning)\n",
      "C:\\Users\\user\\Anaconda3\\lib\\site-packages\\matplotlib\\pyplot.py:537: RuntimeWarning: More than 20 figures have been opened. Figures created through the pyplot interface (`matplotlib.pyplot.figure`) are retained until explicitly closed and may consume too much memory. (To control this warning, see the rcParam `figure.max_open_warning`).\n",
      "  max_open_warning, RuntimeWarning)\n",
      "C:\\Users\\user\\Anaconda3\\lib\\site-packages\\matplotlib\\pyplot.py:537: RuntimeWarning: More than 20 figures have been opened. Figures created through the pyplot interface (`matplotlib.pyplot.figure`) are retained until explicitly closed and may consume too much memory. (To control this warning, see the rcParam `figure.max_open_warning`).\n",
      "  max_open_warning, RuntimeWarning)\n",
      "C:\\Users\\user\\Anaconda3\\lib\\site-packages\\matplotlib\\pyplot.py:537: RuntimeWarning: More than 20 figures have been opened. Figures created through the pyplot interface (`matplotlib.pyplot.figure`) are retained until explicitly closed and may consume too much memory. (To control this warning, see the rcParam `figure.max_open_warning`).\n",
      "  max_open_warning, RuntimeWarning)\n",
      "C:\\Users\\user\\Anaconda3\\lib\\site-packages\\matplotlib\\pyplot.py:537: RuntimeWarning: More than 20 figures have been opened. Figures created through the pyplot interface (`matplotlib.pyplot.figure`) are retained until explicitly closed and may consume too much memory. (To control this warning, see the rcParam `figure.max_open_warning`).\n",
      "  max_open_warning, RuntimeWarning)\n",
      "C:\\Users\\user\\Anaconda3\\lib\\site-packages\\matplotlib\\pyplot.py:537: RuntimeWarning: More than 20 figures have been opened. Figures created through the pyplot interface (`matplotlib.pyplot.figure`) are retained until explicitly closed and may consume too much memory. (To control this warning, see the rcParam `figure.max_open_warning`).\n",
      "  max_open_warning, RuntimeWarning)\n",
      "C:\\Users\\user\\Anaconda3\\lib\\site-packages\\matplotlib\\pyplot.py:537: RuntimeWarning: More than 20 figures have been opened. Figures created through the pyplot interface (`matplotlib.pyplot.figure`) are retained until explicitly closed and may consume too much memory. (To control this warning, see the rcParam `figure.max_open_warning`).\n",
      "  max_open_warning, RuntimeWarning)\n",
      "C:\\Users\\user\\Anaconda3\\lib\\site-packages\\matplotlib\\pyplot.py:537: RuntimeWarning: More than 20 figures have been opened. Figures created through the pyplot interface (`matplotlib.pyplot.figure`) are retained until explicitly closed and may consume too much memory. (To control this warning, see the rcParam `figure.max_open_warning`).\n",
      "  max_open_warning, RuntimeWarning)\n",
      "C:\\Users\\user\\Anaconda3\\lib\\site-packages\\matplotlib\\pyplot.py:537: RuntimeWarning: More than 20 figures have been opened. Figures created through the pyplot interface (`matplotlib.pyplot.figure`) are retained until explicitly closed and may consume too much memory. (To control this warning, see the rcParam `figure.max_open_warning`).\n",
      "  max_open_warning, RuntimeWarning)\n",
      "C:\\Users\\user\\Anaconda3\\lib\\site-packages\\matplotlib\\pyplot.py:537: RuntimeWarning: More than 20 figures have been opened. Figures created through the pyplot interface (`matplotlib.pyplot.figure`) are retained until explicitly closed and may consume too much memory. (To control this warning, see the rcParam `figure.max_open_warning`).\n",
      "  max_open_warning, RuntimeWarning)\n"
     ]
    },
    {
     "name": "stdout",
     "output_type": "stream",
     "text": [
      "-1.0 1.0\n",
      "-1.0 1.0\n",
      "-1.0 1.0\n",
      "-1.0 1.0\n",
      "-1.0 1.0\n",
      "-1.0 1.0\n",
      "-1.0 1.0\n",
      "-1.0 1.0\n",
      "-1.0 1.0\n",
      "-1.0 1.0\n",
      "-1.0 1.0\n",
      "-1.0 1.0\n",
      "-1.0 1.0\n",
      "-1.0 1.0\n",
      "-1.0 1.0\n",
      "-1.0 1.0\n"
     ]
    },
    {
     "name": "stderr",
     "output_type": "stream",
     "text": [
      "C:\\Users\\user\\Anaconda3\\lib\\site-packages\\matplotlib\\pyplot.py:537: RuntimeWarning: More than 20 figures have been opened. Figures created through the pyplot interface (`matplotlib.pyplot.figure`) are retained until explicitly closed and may consume too much memory. (To control this warning, see the rcParam `figure.max_open_warning`).\n",
      "  max_open_warning, RuntimeWarning)\n"
     ]
    },
    {
     "data": {
      "text/plain": [
       "<Figure size 1440x1224 with 0 Axes>"
      ]
     },
     "metadata": {},
     "output_type": "display_data"
    },
    {
     "data": {
      "text/plain": [
       "<Figure size 1440x1224 with 0 Axes>"
      ]
     },
     "metadata": {},
     "output_type": "display_data"
    },
    {
     "data": {
      "text/plain": [
       "<Figure size 1440x1224 with 0 Axes>"
      ]
     },
     "metadata": {},
     "output_type": "display_data"
    },
    {
     "data": {
      "text/plain": [
       "<Figure size 1440x1224 with 0 Axes>"
      ]
     },
     "metadata": {},
     "output_type": "display_data"
    },
    {
     "data": {
      "text/plain": [
       "<Figure size 1440x1224 with 0 Axes>"
      ]
     },
     "metadata": {},
     "output_type": "display_data"
    },
    {
     "data": {
      "text/plain": [
       "<Figure size 1440x1224 with 0 Axes>"
      ]
     },
     "metadata": {},
     "output_type": "display_data"
    },
    {
     "data": {
      "text/plain": [
       "<Figure size 1440x1224 with 0 Axes>"
      ]
     },
     "metadata": {},
     "output_type": "display_data"
    },
    {
     "data": {
      "text/plain": [
       "<Figure size 1440x1224 with 0 Axes>"
      ]
     },
     "metadata": {},
     "output_type": "display_data"
    },
    {
     "data": {
      "text/plain": [
       "<Figure size 1440x1224 with 0 Axes>"
      ]
     },
     "metadata": {},
     "output_type": "display_data"
    },
    {
     "data": {
      "text/plain": [
       "<Figure size 1440x1224 with 0 Axes>"
      ]
     },
     "metadata": {},
     "output_type": "display_data"
    },
    {
     "data": {
      "text/plain": [
       "<Figure size 1440x1224 with 0 Axes>"
      ]
     },
     "metadata": {},
     "output_type": "display_data"
    },
    {
     "data": {
      "text/plain": [
       "<Figure size 1440x1224 with 0 Axes>"
      ]
     },
     "metadata": {},
     "output_type": "display_data"
    },
    {
     "data": {
      "text/plain": [
       "<Figure size 1440x1224 with 0 Axes>"
      ]
     },
     "metadata": {},
     "output_type": "display_data"
    },
    {
     "data": {
      "text/plain": [
       "<Figure size 1440x1224 with 0 Axes>"
      ]
     },
     "metadata": {},
     "output_type": "display_data"
    },
    {
     "data": {
      "text/plain": [
       "<Figure size 1440x1224 with 0 Axes>"
      ]
     },
     "metadata": {},
     "output_type": "display_data"
    },
    {
     "data": {
      "text/plain": [
       "<Figure size 1440x1224 with 0 Axes>"
      ]
     },
     "metadata": {},
     "output_type": "display_data"
    },
    {
     "data": {
      "text/plain": [
       "<Figure size 1440x1224 with 0 Axes>"
      ]
     },
     "metadata": {},
     "output_type": "display_data"
    },
    {
     "data": {
      "text/plain": [
       "<Figure size 1440x1224 with 0 Axes>"
      ]
     },
     "metadata": {},
     "output_type": "display_data"
    },
    {
     "data": {
      "text/plain": [
       "<Figure size 1440x1224 with 0 Axes>"
      ]
     },
     "metadata": {},
     "output_type": "display_data"
    },
    {
     "data": {
      "text/plain": [
       "<Figure size 1440x1224 with 0 Axes>"
      ]
     },
     "metadata": {},
     "output_type": "display_data"
    },
    {
     "data": {
      "text/plain": [
       "<Figure size 1440x1224 with 0 Axes>"
      ]
     },
     "metadata": {},
     "output_type": "display_data"
    },
    {
     "data": {
      "text/plain": [
       "<Figure size 1440x1224 with 0 Axes>"
      ]
     },
     "metadata": {},
     "output_type": "display_data"
    },
    {
     "data": {
      "text/plain": [
       "<Figure size 1440x1224 with 0 Axes>"
      ]
     },
     "metadata": {},
     "output_type": "display_data"
    },
    {
     "data": {
      "text/plain": [
       "<Figure size 1440x1224 with 0 Axes>"
      ]
     },
     "metadata": {},
     "output_type": "display_data"
    },
    {
     "data": {
      "text/plain": [
       "<Figure size 1440x1224 with 0 Axes>"
      ]
     },
     "metadata": {},
     "output_type": "display_data"
    },
    {
     "data": {
      "text/plain": [
       "<Figure size 1440x1224 with 0 Axes>"
      ]
     },
     "metadata": {},
     "output_type": "display_data"
    },
    {
     "data": {
      "text/plain": [
       "<Figure size 1440x1224 with 0 Axes>"
      ]
     },
     "metadata": {},
     "output_type": "display_data"
    },
    {
     "data": {
      "text/plain": [
       "<Figure size 1440x1224 with 0 Axes>"
      ]
     },
     "metadata": {},
     "output_type": "display_data"
    },
    {
     "data": {
      "text/plain": [
       "<Figure size 1440x1224 with 0 Axes>"
      ]
     },
     "metadata": {},
     "output_type": "display_data"
    },
    {
     "data": {
      "text/plain": [
       "<Figure size 1440x1224 with 0 Axes>"
      ]
     },
     "metadata": {},
     "output_type": "display_data"
    },
    {
     "data": {
      "text/plain": [
       "<Figure size 1440x1224 with 0 Axes>"
      ]
     },
     "metadata": {},
     "output_type": "display_data"
    },
    {
     "data": {
      "text/plain": [
       "<Figure size 1440x1224 with 0 Axes>"
      ]
     },
     "metadata": {},
     "output_type": "display_data"
    },
    {
     "data": {
      "text/plain": [
       "<Figure size 1440x1224 with 0 Axes>"
      ]
     },
     "metadata": {},
     "output_type": "display_data"
    },
    {
     "data": {
      "text/plain": [
       "<Figure size 1440x1224 with 0 Axes>"
      ]
     },
     "metadata": {},
     "output_type": "display_data"
    },
    {
     "data": {
      "text/plain": [
       "<Figure size 1440x1224 with 0 Axes>"
      ]
     },
     "metadata": {},
     "output_type": "display_data"
    },
    {
     "data": {
      "text/plain": [
       "<Figure size 1440x1224 with 0 Axes>"
      ]
     },
     "metadata": {},
     "output_type": "display_data"
    },
    {
     "data": {
      "text/plain": [
       "<Figure size 1440x1224 with 0 Axes>"
      ]
     },
     "metadata": {},
     "output_type": "display_data"
    },
    {
     "data": {
      "text/plain": [
       "<Figure size 1440x1224 with 0 Axes>"
      ]
     },
     "metadata": {},
     "output_type": "display_data"
    },
    {
     "data": {
      "text/plain": [
       "<Figure size 1440x1224 with 0 Axes>"
      ]
     },
     "metadata": {},
     "output_type": "display_data"
    },
    {
     "data": {
      "text/plain": [
       "<Figure size 1440x1224 with 0 Axes>"
      ]
     },
     "metadata": {},
     "output_type": "display_data"
    }
   ],
   "source": [
    "#corner_harris_feature_extraction('./data/raw/raw_ggd_0.png')\n",
    "from os import listdir\n",
    "files = listdir('./data/raw')\n",
    "for file in files:\n",
    "    corner_harris_feature_extraction(file)"
   ]
  },
  {
   "cell_type": "code",
   "execution_count": 45,
   "metadata": {},
   "outputs": [
    {
     "data": {
      "text/plain": [
       "<matplotlib.image.AxesImage at 0x18b1c88b5c0>"
      ]
     },
     "execution_count": 45,
     "metadata": {},
     "output_type": "execute_result"
    },
    {
     "data": {
      "image/png": "[encoded data removed]",
      "text/plain": [
       "<matplotlib.figure.Figure at 0x18b1c7a9e10>"
      ]
     },
     "metadata": {},
     "output_type": "display_data"
    }
   ],
   "source": [
    "import cv2\n",
    "import numpy as np\n",
    "\n",
    "k = 3\n",
    "img = cv2.imread('./data/raw/raw_gsc_3.png')\n",
    "img_gray = cv2.cvtColor(img, cv2.COLOR_BGR2GRAY) \n",
    "empty_img = np.zeros(img.shape) + 255\n",
    "\n",
    "i = 0\n",
    "while i < 200 - k:\n",
    "    j = 0\n",
    "    while j < 200 - k:\n",
    "        a = 0\n",
    "        \n",
    "        for k_width in range(k):\n",
    "            for k_height in range(k):\n",
    "                if img_gray[i + k_width, j + k_height] <= 128.:\n",
    "                    a += 1\n",
    "        \n",
    "        if a >= 5:\n",
    "            empty_img[i + int(k/2), j + int(k/2)] = [255, 0, 0]\n",
    "            j += k - 1\n",
    "        j += 1\n",
    "    \n",
    "    i += 1\n",
    "\n",
    "\n",
    "plt.imshow(empty_img)"
   ]
  },
  {
   "cell_type": "code",
   "execution_count": 142,
   "metadata": {},
   "outputs": [
    {
     "name": "stderr",
     "output_type": "stream",
     "text": [
      "Clipping input data to the valid range for imshow with RGB data ([0..1] for floats or [0..255] for integers).\n"
     ]
    },
    {
     "data": {
      "text/plain": [
       "<matplotlib.image.AxesImage at 0x2cb8a4fe2b0>"
      ]
     },
     "execution_count": 142,
     "metadata": {},
     "output_type": "execute_result"
    },
    {
     "data": {
      "image/png": "[encoded data removed]",
      "text/plain": [
       "<Figure size 432x288 with 1 Axes>"
      ]
     },
     "metadata": {},
     "output_type": "display_data"
    }
   ],
   "source": [
    "import cv2\n",
    "import numpy as np\n",
    "\n",
    "p1 = np.array([[255, 255, 255],\n",
    "               [0, 0, 0],\n",
    "               [255, 255, 255]])\n",
    "p2 = np.array([[255, 0, 255],\n",
    "               [255, 0, 255],\n",
    "               [255, 0, 255]])\n",
    "p3 = np.array([[0, 255, 255],\n",
    "               [255, 0, 255],\n",
    "               [255, 255, 0]])\n",
    "p4 = np.array([[255, 255, 0],\n",
    "               [255, 0, 255],\n",
    "               [0, 255, 255]])\n",
    "\n",
    "k = 3\n",
    "img = cv2.imread('./data/raw/raw_ggd_1.png')\n",
    "img_gray = cv2.cvtColor(img, cv2.COLOR_BGR2GRAY) \n",
    "ret, thr = cv2.threshold(img_gray, 127, 255, 0)\n",
    "empty_img = np.zeros(img.shape) + 255\n",
    "\n",
    "i = 0\n",
    "while i < 200 - k:\n",
    "    j = 0\n",
    "    while j < 200 - k:        \n",
    "        a = thr[i:i+k, j:j+k] == p2\n",
    "        \n",
    "        if a.sum() != 6:\n",
    "            empty_img[i + int(k/2), j + int(k/2)] = [255, 0, 0]\n",
    "        j += 1\n",
    "    i += 1\n",
    "\n",
    "\n",
    "plt.imshow(empty_img)\n"
   ]
  },
  {
   "cell_type": "code",
   "execution_count": 1,
   "metadata": {},
   "outputs": [
    {
     "data": {
      "text/plain": [
       "<matplotlib.image.AxesImage at 0x7f4f83996c88>"
      ]
     },
     "execution_count": 1,
     "metadata": {},
     "output_type": "execute_result"
    },
    {
     "data": {
      "image/png": "[encoded data removed]",
      "text/plain": [
       "<Figure size 432x288 with 1 Axes>"
      ]
     },
     "metadata": {
      "needs_background": "light"
     },
     "output_type": "display_data"
    }
   ],
   "source": [
    "import cv2\n",
    "import numpy as np\n",
    "import matplotlib.pyplot as plt\n",
    "%matplotlib inline\n",
    "\n",
    "k = 3\n",
    "p = np.zeros((k, k))\n",
    "p1 = np.array([[0, 0, 0],\n",
    "               [1, 1, 1],\n",
    "               [0, 0, 0]]) * 255\n",
    "\n",
    "p2 = np.array([[0, 1, 0],\n",
    "               [0, 1, 0],\n",
    "               [0, 1, 0]]) * 255\n",
    "\n",
    "p3 = np.array([[1, 0, 0],\n",
    "               [0, 1, 0],\n",
    "               [0, 0, 1]]) * 255\n",
    "\n",
    "p4 = np.array([[0, 0, 1],\n",
    "               [0, 1, 0],\n",
    "               [1, 0, 0]]) * 255\n",
    "\n",
    "img = cv2.imread('./data/zoom/number_0/zoom_gsc_1.png')\n",
    "img2 = img.copy()\n",
    "img_gray = cv2.cvtColor(img2, cv2.COLOR_BGR2GRAY) \n",
    "ret, thr = cv2.threshold(img_gray, 127, 255, 0)\n",
    "length = int(img.shape[0] / k)\n",
    "empty_img = np.uint8(np.zeros((length, length, 3)) + 255)\n",
    "\n",
    "#print(img)\n",
    "i = 0\n",
    "b = set()\n",
    "while i < length:\n",
    "    j = 0\n",
    "    while j < length:        \n",
    "        \n",
    "        a = np.sum((thr[k*i:k*i+k, k*j:k*j+k] == p))\n",
    "        a = int(255 - (a / float(k*k)) * 255)\n",
    "\n",
    "        empty_img[i, j] = [a, a, a]\n",
    "        j += 1\n",
    "    i += 1\n",
    "\n",
    "plt.imshow(empty_img)"
   ]
  },
  {
   "cell_type": "code",
   "execution_count": 58,
   "metadata": {},
   "outputs": [
    {
     "name": "stdout",
     "output_type": "stream",
     "text": [
      "179 154 20 55\n",
      "159 99\n",
      "200.0\n",
      "124.52830188679245\n",
      "125\n",
      "black: 16408 white: 23592\n"
     ]
    },
    {
     "data": {
      "image/png": "[encoded data removed]",
      "text/plain": [
       "<Figure size 1152x864 with 1 Axes>"
      ]
     },
     "metadata": {
      "needs_background": "light"
     },
     "output_type": "display_data"
    }
   ],
   "source": [
    "import cv2\n",
    "import numpy as np\n",
    "import matplotlib.pyplot as plt\n",
    "%matplotlib inline\n",
    "\n",
    "\n",
    "img = cv2.imread('./data/zoom/number_0/zoom_ggd_5.png')\n",
    "img2 = img.copy()\n",
    "img_gray = cv2.cvtColor(img2, cv2.COLOR_BGR2GRAY) \n",
    "ret, thr = cv2.threshold(img_gray, 127, 255, 0)\n",
    "\n",
    "top_h = 0\n",
    "i = 0\n",
    "while i < 200:\n",
    "    j = 0\n",
    "    while j < 200:        \n",
    "        \n",
    "        if thr[i, j] <= 200:\n",
    "            top_h = i   \n",
    "        j += 1\n",
    "    i += 1\n",
    "    \n",
    "top_w = 0\n",
    "i = 0\n",
    "while i < 200:\n",
    "    j = 0\n",
    "    while j < 200:        \n",
    "        \n",
    "        if thr[j, i] <= 200:\n",
    "            top_w = i   \n",
    "        j += 1\n",
    "    i += 1\n",
    "    \n",
    "low_h = 0\n",
    "i = 199\n",
    "while i > 0:\n",
    "    j = 199\n",
    "    while j > 0:        \n",
    "        \n",
    "        if thr[i, j] <= 200:\n",
    "            low_h = i   \n",
    "        j -= 1\n",
    "    i -= 1\n",
    "    \n",
    "low_w = 0\n",
    "i = 199\n",
    "while i >= 0:\n",
    "    j = 199\n",
    "    while j >= 0:        \n",
    "        \n",
    "        if thr[j, i] <= 200:\n",
    "            low_w = i   \n",
    "        j -= 1\n",
    "    i -= 1\n",
    "    \n",
    "print(top_h, top_w, low_h, low_w)\n",
    "\n",
    "raw_img = img[low_h: top_h, low_w: top_w]\n",
    "\n",
    "#plt.imshow(img[low_h: top_h, low_w: top_w])\n",
    "\n",
    "print(top_h - low_h , top_w-low_w)\n",
    "raw_height = top_h - low_h\n",
    "raw_width = top_w - low_w\n",
    "ratio = 200/ (raw_height)\n",
    "print(ratio * raw_height)\n",
    "print(ratio * raw_width)\n",
    "norm_img = cv2.resize(raw_img, None, fx=ratio, fy=ratio,  interpolation=cv2.INTER_AREA)\n",
    "plt.figure(figsize=(16, 12))\n",
    "\n",
    "print(norm_img.shape[1])\n",
    "empty_img = np.zeros((200, 200, 3), dtype='uint8') + 255\n",
    "\n",
    "start = int(100 - norm_img.shape[1] / 2)\n",
    "empty_img[:, start : start + norm_img.shape[1]] = norm_img\n",
    "plt.imshow(empty_img)\n",
    "\n",
    "black = 0\n",
    "i = 0\n",
    "while i < 200:\n",
    "    j = 0\n",
    "    while j < 200:        \n",
    "        \n",
    "        if empty_img[i, j, 0] <= 200:\n",
    "            black += 1\n",
    "        j += 1\n",
    "    i += 1\n",
    "\n",
    "print(\"black: \"+str(black) + \" white: \"+str(40000 - black))\n",
    "#height = 200\n",
    "#width = "
   ]
  },
  {
   "cell_type": "code",
   "execution_count": 126,
   "metadata": {},
   "outputs": [],
   "source": [
    "import cv2\n",
    "import numpy as np\n",
    "import matplotlib.pyplot as plt\n",
    "%matplotlib inline\n",
    "\n",
    "def find_height_width(img):\n",
    "    img = cv2.imread(img)\n",
    "    img2 = img.copy()\n",
    "    img_gray = cv2.cvtColor(img2, cv2.COLOR_BGR2GRAY) \n",
    "    ret, thr = cv2.threshold(img_gray, 127, 255, 0)\n",
    "\n",
    "    top_h = 0\n",
    "    i = 0\n",
    "    while i < 200:\n",
    "        j = 0\n",
    "        while j < 200:        \n",
    "\n",
    "            if thr[i, j] <= 127:\n",
    "                top_h = i   \n",
    "            j += 1\n",
    "        i += 1\n",
    "\n",
    "    top_w = 0\n",
    "    i = 0\n",
    "    while i < 200:\n",
    "        j = 0\n",
    "        while j < 200:        \n",
    "\n",
    "            if thr[j, i] <= 127:\n",
    "                top_w = i   \n",
    "            j += 1\n",
    "        i += 1\n",
    "\n",
    "    low_h = 0\n",
    "    i = 199\n",
    "    while i > 0:\n",
    "        j = 199\n",
    "        while j > 0:        \n",
    "\n",
    "            if thr[i, j] <= 127:\n",
    "                low_h = i   \n",
    "            j -= 1\n",
    "        i -= 1\n",
    "\n",
    "    low_w = 0\n",
    "    i = 199\n",
    "    while i >= 0:\n",
    "        j = 199\n",
    "        while j >= 0:        \n",
    "\n",
    "            if thr[j, i] <= 127:\n",
    "                low_w = i   \n",
    "            j -= 1\n",
    "        i -= 1\n",
    "\n",
    "    return top_h, top_w, low_h, low_w\n"
   ]
  },
  {
   "cell_type": "code",
   "execution_count": 69,
   "metadata": {},
   "outputs": [],
   "source": [
    "import cv2\n",
    "import numpy as np\n",
    "import matplotlib.pyplot as plt\n",
    "%matplotlib inline\n",
    "\n",
    "def norm_image(img, top_h, top_w, low_h, low_w, a=200):\n",
    "    raw_img = img[low_h: top_h, low_w: top_w]\n",
    "    \n",
    "    raw_height = top_h - low_h\n",
    "    raw_width = top_w - low_w\n",
    "    \n",
    "    ratio = a/ (raw_height)\n",
    "\n",
    "    norm_img = cv2.resize(raw_img, None, fx=ratio, fy=ratio,  interpolation=cv2.INTER_AREA)\n",
    "\n",
    "    empty_img = np.zeros((200, 200, 3), dtype='uint8') + 255\n",
    "\n",
    "    start = int(100 - norm_img.shape[1] / 2)\n",
    "    empty_img[:, start : start + norm_img.shape[1]] = norm_img\n",
    "    return empty_img\n"
   ]
  },
  {
   "cell_type": "code",
   "execution_count": 78,
   "metadata": {},
   "outputs": [],
   "source": [
    "import cv2\n",
    "import numpy as np\n",
    "import matplotlib.pyplot as plt\n",
    "%matplotlib inline\n",
    "\n",
    "def count_black(img, start_h, start_w, end_h, end_w):\n",
    "    black = 0\n",
    "    \n",
    "    for i in range(start_h, end_h):\n",
    "        for j in range(start_w, end_w):     \n",
    "            if img[i, j, 0] <= 200:\n",
    "                black += 1\n",
    "    \n",
    "    white = (end_h - start_h) * (end_w + start_w) - black\n",
    "    return black, white"
   ]
  },
  {
   "cell_type": "code",
   "execution_count": 87,
   "metadata": {},
   "outputs": [
    {
     "name": "stdout",
     "output_type": "stream",
     "text": [
      "0 gl\th_w_ratio:1.647059\tblack:8873\twhite:31127\tb_w_ratio:0.285058\n",
      "\tb1:2368\tw1: 7632\tb_w1_ratio:0.310273\n",
      "\tb2:2370\tw2: 7630\tb_w2_ratio:0.310616\n",
      "\tb3:2117\tw3:27883\tb_w3_ratio:0.075924\n",
      "\tb4:2018\tw4:27982\tb_w4_ratio:0.075656\n",
      "0 ggd\th_w_ratio:1.631579\tblack:16279\twhite:23721\tb_w_ratio:0.686270\n",
      "\tb1:4186\tw1: 5814\tb_w1_ratio:0.719986\n",
      "\tb2:4314\tw2: 5686\tb_w2_ratio:0.758706\n",
      "\tb3:3900\tw3:26100\tb_w3_ratio:0.149425\n",
      "\tb4:3879\tw4:26121\tb_w4_ratio:0.149305\n",
      "0 smj\th_w_ratio:1.473684\tblack:8357\twhite:31643\tb_w_ratio:0.264103\n",
      "\tb1:2312\tw1: 7688\tb_w1_ratio:0.300728\n",
      "\tb2:2289\tw2: 7711\tb_w2_ratio:0.296849\n",
      "\tb3:1955\tw3:28045\tb_w3_ratio:0.069709\n",
      "\tb4:1801\tw4:28199\tb_w4_ratio:0.069329\n",
      "0 gsc\th_w_ratio:1.647059\tblack:11809\twhite:28191\tb_w_ratio:0.418893\n",
      "\tb1:3073\tw1: 6927\tb_w1_ratio:0.443626\n",
      "\tb2:3094\tw2: 6906\tb_w2_ratio:0.448016\n",
      "\tb3:2838\tw3:27162\tb_w3_ratio:0.104484\n",
      "\tb4:2804\tw4:27196\tb_w4_ratio:0.104354\n",
      "1 gl\th_w_ratio:4.666667\tblack:2321\twhite:37679\tb_w_ratio:0.061599\n",
      "\tb1:394\tw1: 9606\tb_w1_ratio:0.041016\n",
      "\tb2:0\tw2:10000\tb_w2_ratio:0.000000\n",
      "\tb3:1127\tw3:28873\tb_w3_ratio:0.039033\n",
      "\tb4:800\tw4:29200\tb_w4_ratio:0.038596\n",
      "1 ggd\th_w_ratio:2.636364\tblack:8268\twhite:31732\tb_w_ratio:0.260557\n",
      "\tb1:1243\tw1: 8757\tb_w1_ratio:0.141944\n",
      "\tb2:0\tw2:10000\tb_w2_ratio:0.000000\n",
      "\tb3:3525\tw3:26475\tb_w3_ratio:0.133144\n",
      "\tb4:3500\tw4:26500\tb_w4_ratio:0.133019\n",
      "1 smj\th_w_ratio:2.333333\tblack:5043\twhite:34957\tb_w_ratio:0.144263\n",
      "\tb1:1324\tw1: 8676\tb_w1_ratio:0.152605\n",
      "\tb2:813\tw2: 9187\tb_w2_ratio:0.088495\n",
      "\tb3:1400\tw3:28600\tb_w3_ratio:0.048951\n",
      "\tb4:1506\tw4:28494\tb_w4_ratio:0.049133\n",
      "1 gsc\th_w_ratio:1.647059\tblack:8376\twhite:31624\tb_w_ratio:0.264862\n",
      "\tb1:2171\tw1: 7829\tb_w1_ratio:0.277302\n",
      "\tb2:1897\tw2: 8103\tb_w2_ratio:0.234111\n",
      "\tb3:1800\tw3:28200\tb_w3_ratio:0.063830\n",
      "\tb4:2508\tw4:27492\tb_w4_ratio:0.065474\n",
      "2 gl\th_w_ratio:1.647059\tblack:7547\twhite:32453\tb_w_ratio:0.232552\n",
      "\tb1:1930\tw1: 8070\tb_w1_ratio:0.239157\n",
      "\tb2:2021\tw2: 7979\tb_w2_ratio:0.253290\n",
      "\tb3:2424\tw3:27576\tb_w3_ratio:0.087903\n",
      "\tb4:1172\tw4:28828\tb_w4_ratio:0.084085\n",
      "2 ggd\th_w_ratio:1.578947\tblack:15168\twhite:24832\tb_w_ratio:0.610825\n",
      "\tb1:3177\tw1: 6823\tb_w1_ratio:0.465631\n",
      "\tb2:4031\tw2: 5969\tb_w2_ratio:0.675322\n",
      "\tb3:4341\tw3:25659\tb_w3_ratio:0.169180\n",
      "\tb4:3619\tw4:26381\tb_w4_ratio:0.164550\n",
      "2 smj\th_w_ratio:1.647059\tblack:7204\twhite:32796\tb_w_ratio:0.219661\n",
      "\tb1:1752\tw1: 8248\tb_w1_ratio:0.212415\n",
      "\tb2:1623\tw2: 8377\tb_w2_ratio:0.193745\n",
      "\tb3:2165\tw3:27835\tb_w3_ratio:0.077780\n",
      "\tb4:1664\tw4:28336\tb_w4_ratio:0.076405\n",
      "2 gsc\th_w_ratio:1.750000\tblack:12012\twhite:27988\tb_w_ratio:0.429184\n",
      "\tb1:2435\tw1: 7565\tb_w1_ratio:0.321877\n",
      "\tb2:2759\tw2: 7241\tb_w2_ratio:0.381025\n",
      "\tb3:3172\tw3:26828\tb_w3_ratio:0.118235\n",
      "\tb4:3646\tw4:26354\tb_w4_ratio:0.120361\n",
      "3 gl\th_w_ratio:1.647059\tblack:8658\twhite:31342\tb_w_ratio:0.276243\n",
      "\tb1:1838\tw1: 8162\tb_w1_ratio:0.225190\n",
      "\tb2:1756\tw2: 8244\tb_w2_ratio:0.213003\n",
      "\tb3:2627\tw3:27373\tb_w3_ratio:0.095970\n",
      "\tb4:2437\tw4:27563\tb_w4_ratio:0.095309\n",
      "3 ggd\th_w_ratio:1.631579\tblack:14866\twhite:25134\tb_w_ratio:0.591470\n",
      "\tb1:3010\tw1: 6990\tb_w1_ratio:0.430615\n",
      "\tb2:2886\tw2: 7114\tb_w2_ratio:0.405679\n",
      "\tb3:4546\tw3:25454\tb_w3_ratio:0.178597\n",
      "\tb4:4424\tw4:25576\tb_w4_ratio:0.177745\n",
      "3 smj\th_w_ratio:1.705882\tblack:7327\twhite:32673\tb_w_ratio:0.224252\n",
      "\tb1:1496\tw1: 8504\tb_w1_ratio:0.175917\n",
      "\tb2:1380\tw2: 8620\tb_w2_ratio:0.160093\n",
      "\tb3:2394\tw3:27606\tb_w3_ratio:0.086720\n",
      "\tb4:2057\tw4:27943\tb_w4_ratio:0.085674\n",
      "3 gsc\th_w_ratio:1.750000\tblack:11382\twhite:28618\tb_w_ratio:0.397722\n",
      "\tb1:2262\tw1: 7738\tb_w1_ratio:0.292324\n",
      "\tb2:2043\tw2: 7957\tb_w2_ratio:0.256755\n",
      "\tb3:3602\tw3:26398\tb_w3_ratio:0.136450\n",
      "\tb4:3475\tw4:26525\tb_w4_ratio:0.135796\n",
      "4 gl\th_w_ratio:1.473684\tblack:8686\twhite:31314\tb_w_ratio:0.277384\n",
      "\tb1:1243\tw1: 8757\tb_w1_ratio:0.141944\n",
      "\tb2:1935\tw2: 8065\tb_w2_ratio:0.239926\n",
      "\tb3:2746\tw3:27254\tb_w3_ratio:0.100756\n",
      "\tb4:2762\tw4:27238\tb_w4_ratio:0.100815\n",
      "4 ggd\th_w_ratio:1.500000\tblack:14866\twhite:25134\tb_w_ratio:0.591470\n",
      "\tb1:2130\tw1: 7870\tb_w1_ratio:0.270648\n",
      "\tb2:3156\tw2: 6844\tb_w2_ratio:0.461134\n",
      "\tb3:4696\tw3:25304\tb_w3_ratio:0.185583\n",
      "\tb4:4884\tw4:25116\tb_w4_ratio:0.186972\n",
      "4 smj\th_w_ratio:1.555556\tblack:7057\twhite:32943\tb_w_ratio:0.214218\n",
      "\tb1:742\tw1: 9258\tb_w1_ratio:0.080147\n",
      "\tb2:1059\tw2: 8941\tb_w2_ratio:0.118443\n",
      "\tb3:2537\tw3:27463\tb_w3_ratio:0.092379\n",
      "\tb4:2719\tw4:27281\tb_w4_ratio:0.092995\n",
      "4 gsc\th_w_ratio:1.473684\tblack:13030\twhite:26970\tb_w_ratio:0.483129\n",
      "\tb1:1946\tw1: 8054\tb_w1_ratio:0.241619\n",
      "\tb2:3193\tw2: 6807\tb_w2_ratio:0.469076\n",
      "\tb3:3432\tw3:26568\tb_w3_ratio:0.129178\n",
      "\tb4:4459\tw4:25541\tb_w4_ratio:0.134372\n",
      "5 gl\th_w_ratio:1.647059\tblack:8453\twhite:31547\tb_w_ratio:0.267949\n",
      "\tb1:3168\tw1: 6832\tb_w1_ratio:0.463700\n",
      "\tb2:1354\tw2: 8646\tb_w2_ratio:0.156604\n",
      "\tb3:1849\tw3:28151\tb_w3_ratio:0.065682\n",
      "\tb4:2082\tw4:27918\tb_w4_ratio:0.066230\n",
      "5 ggd\th_w_ratio:1.631579\tblack:15776\twhite:24224\tb_w_ratio:0.651255\n",
      "\tb1:4580\tw1: 5420\tb_w1_ratio:0.845018\n",
      "\tb2:3447\tw2: 6553\tb_w2_ratio:0.526019\n",
      "\tb3:3358\tw3:26642\tb_w3_ratio:0.126042\n",
      "\tb4:4391\tw4:25609\tb_w4_ratio:0.131126\n",
      "5 smj\th_w_ratio:1.750000\tblack:6587\twhite:33413\tb_w_ratio:0.197139\n",
      "\tb1:2214\tw1: 7786\tb_w1_ratio:0.284357\n",
      "\tb2:1429\tw2: 8571\tb_w2_ratio:0.166725\n",
      "\tb3:1514\tw3:28486\tb_w3_ratio:0.053149\n",
      "\tb4:1430\tw4:28570\tb_w4_ratio:0.052993\n",
      "5 gsc\th_w_ratio:1.750000\tblack:12243\twhite:27757\tb_w_ratio:0.441078\n",
      "\tb1:3558\tw1: 6442\tb_w1_ratio:0.552313\n",
      "\tb2:1933\tw2: 8067\tb_w2_ratio:0.239618\n",
      "\tb3:3761\tw3:26239\tb_w3_ratio:0.143336\n",
      "\tb4:2991\tw4:27009\tb_w4_ratio:0.139250\n",
      "6 gl\th_w_ratio:1.647059\tblack:9659\twhite:30341\tb_w_ratio:0.318348\n",
      "\tb1:2847\tw1: 7153\tb_w1_ratio:0.398015\n",
      "\tb2:2533\tw2: 7467\tb_w2_ratio:0.339226\n",
      "\tb3:2201\tw3:27799\tb_w3_ratio:0.079176\n",
      "\tb4:2078\tw4:27922\tb_w4_ratio:0.078827\n",
      "6 ggd\th_w_ratio:1.631579\tblack:17117\twhite:22883\tb_w_ratio:0.748023\n",
      "\tb1:4531\tw1: 5469\tb_w1_ratio:0.828488\n",
      "\tb2:4362\tw2: 5638\tb_w2_ratio:0.773679\n",
      "\tb3:4102\tw3:25898\tb_w3_ratio:0.158391\n",
      "\tb4:4122\tw4:25878\tb_w4_ratio:0.158513\n",
      "6 smj\th_w_ratio:1.705882\tblack:8048\twhite:31952\tb_w_ratio:0.251878\n",
      "\tb1:2351\tw1: 7649\tb_w1_ratio:0.307360\n",
      "\tb2:2119\tw2: 7881\tb_w2_ratio:0.268875\n",
      "\tb3:1883\tw3:28117\tb_w3_ratio:0.066970\n",
      "\tb4:1695\tw4:28305\tb_w4_ratio:0.066525\n",
      "6 gsc\th_w_ratio:1.866667\tblack:12298\twhite:27702\tb_w_ratio:0.443939\n",
      "\tb1:3382\tw1: 6618\tb_w1_ratio:0.511031\n",
      "\tb2:3360\tw2: 6640\tb_w2_ratio:0.506024\n",
      "\tb3:2664\tw3:27336\tb_w3_ratio:0.097454\n",
      "\tb4:2892\tw4:27108\tb_w4_ratio:0.098274\n",
      "7 gl\th_w_ratio:1.647059\tblack:6205\twhite:33795\tb_w_ratio:0.183607\n",
      "\tb1:1041\tw1: 8959\tb_w1_ratio:0.116196\n",
      "\tb2:2060\tw2: 7940\tb_w2_ratio:0.259446\n",
      "\tb3:2880\tw3:27120\tb_w3_ratio:0.106195\n",
      "\tb4:224\tw4:29776\tb_w4_ratio:0.096722\n",
      "7 ggd\th_w_ratio:1.450000\tblack:12180\twhite:27820\tb_w_ratio:0.437815\n",
      "\tb1:2510\tw1: 7490\tb_w1_ratio:0.335113\n",
      "\tb2:2909\tw2: 7091\tb_w2_ratio:0.410238\n",
      "\tb3:5146\tw3:24854\tb_w3_ratio:0.207049\n",
      "\tb4:1615\tw4:28385\tb_w4_ratio:0.181293\n",
      "7 smj\th_w_ratio:1.647059\tblack:5715\twhite:34285\tb_w_ratio:0.166691\n",
      "\tb1:1417\tw1: 8583\tb_w1_ratio:0.165094\n",
      "\tb2:1454\tw2: 8546\tb_w2_ratio:0.170138\n",
      "\tb3:2020\tw3:27980\tb_w3_ratio:0.072194\n",
      "\tb4:824\tw4:29176\tb_w4_ratio:0.069235\n",
      "7 gsc\th_w_ratio:1.866667\tblack:9649\twhite:30351\tb_w_ratio:0.317914\n",
      "\tb1:2733\tw1: 7267\tb_w1_ratio:0.376084\n",
      "\tb2:2410\tw2: 7590\tb_w2_ratio:0.317523\n",
      "\tb3:3673\tw3:26327\tb_w3_ratio:0.139515\n",
      "\tb4:833\tw4:29167\tb_w4_ratio:0.125930\n",
      "8 gl\th_w_ratio:1.555556\tblack:11134\twhite:28866\tb_w_ratio:0.385713\n",
      "\tb1:2897\tw1: 7103\tb_w1_ratio:0.407856\n",
      "\tb2:2738\tw2: 7262\tb_w2_ratio:0.377031\n",
      "\tb3:3123\tw3:26877\tb_w3_ratio:0.116196\n",
      "\tb4:2376\tw4:27624\tb_w4_ratio:0.113054\n",
      "8 ggd\th_w_ratio:1.631579\tblack:17691\twhite:22309\tb_w_ratio:0.792998\n",
      "\tb1:4348\tw1: 5652\tb_w1_ratio:0.769285\n",
      "\tb2:4599\tw2: 5401\tb_w2_ratio:0.851509\n",
      "\tb3:4366\tw3:25634\tb_w3_ratio:0.170321\n",
      "\tb4:4378\tw4:25622\tb_w4_ratio:0.170400\n",
      "8 smj\th_w_ratio:1.812500\tblack:7783\twhite:32217\tb_w_ratio:0.241581\n",
      "\tb1:2203\tw1: 7797\tb_w1_ratio:0.282545\n",
      "\tb2:1905\tw2: 8095\tb_w2_ratio:0.235330\n",
      "\tb3:1974\tw3:28026\tb_w3_ratio:0.070435\n",
      "\tb4:1701\tw4:28299\tb_w4_ratio:0.069755\n",
      "8 gsc\th_w_ratio:1.866667\tblack:13260\twhite:26740\tb_w_ratio:0.495886\n",
      "\tb1:3426\tw1: 6574\tb_w1_ratio:0.521144\n",
      "\tb2:3277\tw2: 6723\tb_w2_ratio:0.487431\n",
      "\tb3:3509\tw3:26491\tb_w3_ratio:0.132460\n",
      "\tb4:3048\tw4:26952\tb_w4_ratio:0.130194\n",
      "9 gl\th_w_ratio:1.647059\tblack:10043\twhite:29957\tb_w_ratio:0.335247\n",
      "\tb1:2489\tw1: 7511\tb_w1_ratio:0.331381\n",
      "\tb2:2470\tw2: 7530\tb_w2_ratio:0.328021\n",
      "\tb3:2173\tw3:27827\tb_w3_ratio:0.078090\n",
      "\tb4:2911\tw4:27089\tb_w4_ratio:0.080217\n",
      "9 ggd\th_w_ratio:1.631579\tblack:16655\twhite:23345\tb_w_ratio:0.713429\n",
      "\tb1:4170\tw1: 5830\tb_w1_ratio:0.715266\n",
      "\tb2:3735\tw2: 6265\tb_w2_ratio:0.596169\n",
      "\tb3:4002\tw3:25998\tb_w3_ratio:0.153935\n",
      "\tb4:4748\tw4:25252\tb_w4_ratio:0.158482\n"
     ]
    },
    {
     "name": "stdout",
     "output_type": "stream",
     "text": [
      "9 smj\th_w_ratio:1.647059\tblack:8061\twhite:31939\tb_w_ratio:0.252387\n",
      "\tb1:2249\tw1: 7751\tb_w1_ratio:0.290156\n",
      "\tb2:1902\tw2: 8098\tb_w2_ratio:0.234873\n",
      "\tb3:1744\tw3:28256\tb_w3_ratio:0.061721\n",
      "\tb4:2166\tw4:27834\tb_w4_ratio:0.062657\n",
      "9 gsc\th_w_ratio:1.866667\tblack:12391\twhite:27609\tb_w_ratio:0.448803\n",
      "\tb1:3100\tw1: 6900\tb_w1_ratio:0.449275\n",
      "\tb2:2698\tw2: 7302\tb_w2_ratio:0.369488\n",
      "\tb3:2925\tw3:27075\tb_w3_ratio:0.108033\n",
      "\tb4:3668\tw4:26332\tb_w4_ratio:0.111082\n",
      "[[0.31027254 0.31061599 0.0759244  0.07565578]\n",
      " [0.71998624 0.75870559 0.14942529 0.14930516]\n",
      " [0.30072841 0.29684866 0.0697094  0.0693287 ]\n",
      " [0.44362639 0.44801622 0.10448421 0.10435358]\n",
      " [0.04101603 0.         0.03903301 0.03859589]\n",
      " [0.14194359 0.         0.13314448 0.13301887]\n",
      " [0.15260489 0.08849461 0.04895105 0.04913315]\n",
      " [0.27730234 0.23411082 0.06382979 0.06547359]\n",
      " [0.23915737 0.25328989 0.08790252 0.08408492]\n",
      " [0.46563095 0.6753225  0.1691804  0.16455024]\n",
      " [0.21241513 0.19374478 0.07777977 0.07640457]\n",
      " [0.32187707 0.38102472 0.11823468 0.12036124]\n",
      " [0.2251899  0.2130034  0.09597048 0.09530893]\n",
      " [0.43061516 0.40567894 0.17859668 0.17774476]\n",
      " [0.17591722 0.16009281 0.08672028 0.08567441]\n",
      " [0.2923236  0.25675506 0.13644973 0.13579642]\n",
      " [0.14194359 0.2399256  0.10075585 0.10081504]\n",
      " [0.27064803 0.46113384 0.18558331 0.18697245]\n",
      " [0.0801469  0.11844313 0.09237884 0.09299512]\n",
      " [0.24161907 0.46907595 0.12917796 0.13437219]\n",
      " [0.46370023 0.15660421 0.0656815  0.06622967]\n",
      " [0.84501845 0.52601862 0.12604159 0.13112578]\n",
      " [0.28435654 0.166725   0.05314892 0.05299265]\n",
      " [0.55231295 0.2396182  0.14333626 0.13924988]\n",
      " [0.39801482 0.33922593 0.07917551 0.07882673]\n",
      " [0.82848784 0.77367861 0.15839061 0.15851302]\n",
      " [0.30736044 0.26887451 0.06697016 0.06652535]\n",
      " [0.51103052 0.5060241  0.09745391 0.09827357]\n",
      " [0.116196   0.25944584 0.10619469 0.09672219]\n",
      " [0.33511348 0.41023833 0.20704917 0.18129294]\n",
      " [0.16509379 0.17013808 0.07219442 0.06923499]\n",
      " [0.37608367 0.31752306 0.13951457 0.12592999]\n",
      " [0.40785584 0.37703112 0.116196   0.11305387]\n",
      " [0.76928521 0.85150898 0.17032067 0.17040044]\n",
      " [0.28254457 0.23533045 0.0704346  0.06975512]\n",
      " [0.5211439  0.48743121 0.13246008 0.13019442]\n",
      " [0.33138064 0.32802125 0.07808963 0.08021706]\n",
      " [0.71526587 0.59616919 0.15393492 0.1584825 ]\n",
      " [0.29015611 0.23487281 0.0617214  0.06265718]\n",
      " [0.44927536 0.36948781 0.10803324 0.11108157]]\n"
     ]
    }
   ],
   "source": [
    "fonts = ['gl', 'ggd', 'smj', 'gsc']\n",
    "np_ratio = np.array([[],\n",
    "                    [],\n",
    "                    [],\n",
    "                    []])\n",
    "for i in range(10):\n",
    "    for font in fonts:\n",
    "        top_h, top_w, low_h, low_w = find_height_width('raw_'+ font +'_' + str(i) + '.png')\n",
    "        norm_img = norm_image(cv2.imread('./data/raw/'+'raw_'+ font +'_' + str(i) + '.png'), top_h, top_w, low_h, low_w)\n",
    "        black, white = count_black(norm_img, 0, 0, 200, 200)\n",
    "        \n",
    "        black1, white1 = count_black(norm_img, 0, 0, 100, 100)\n",
    "        black2, white2 = count_black(norm_img, 100, 0, 200, 100)\n",
    "        black3, white3 = count_black(norm_img, 0, 100, 100, 200)\n",
    "        black4, white4 = count_black(norm_img, 100, 100, 200, 200)\n",
    "        ratio1 = black1 / white1\n",
    "        ratio2 = black2 / white2\n",
    "        ratio3 = black3 / white3\n",
    "        ratio4 = black3 / white4\n",
    "        ratio = (top_h - low_h) / (top_w - low_w)\n",
    "        \n",
    "        np_ratio = np.c_[np_ratio, np.array([[ratio1],\n",
    "                                             [ratio2],\n",
    "                                             [ratio3],\n",
    "                                             [ratio4]])]\n",
    "        \n",
    "        print(\"%d %s\\th_w_ratio:%f\\tblack:%d\\twhite:%d\\tb_w_ratio:%f\" % (i, font, ratio, black, white, black/white))\n",
    "        print(\"\\tb1:%d\\tw1:%5d\\tb_w1_ratio:%f\" % (black1, white1, ratio1))\n",
    "        print(\"\\tb2:%d\\tw2:%5d\\tb_w2_ratio:%f\" % (black2, white2, ratio2))\n",
    "        print(\"\\tb3:%d\\tw3:%5d\\tb_w3_ratio:%f\" % (black3, white3, ratio3))\n",
    "        print(\"\\tb4:%d\\tw4:%5d\\tb_w4_ratio:%f\" % (black4, white4, ratio4))\n",
    "\n",
    "print(np_ratio.T)"
   ]
  },
  {
   "cell_type": "code",
   "execution_count": 138,
   "metadata": {},
   "outputs": [
    {
     "name": "stdout",
     "output_type": "stream",
     "text": [
      "0: 0.006818\n",
      "1: 0.109972\n",
      "2: 0.117968\n",
      "3: 0.012690\n",
      "4: 0.014535\n",
      "5: 0.065486\n",
      "6: 0.089223\n",
      "7: 0.034959\n",
      "8: 0.015608\n",
      "9: 0.031377\n"
     ]
    }
   ],
   "source": [
    "from scipy.spatial.distance import cosine\n",
    "\n",
    "#np_ratio = np_ratio.T\n",
    "\n",
    "# print(np_ratio[0])\n",
    "\n",
    "top_h, top_w, low_h, low_w = find_height_width('./data/zoom/number_7/zoom_ggd_5.png')\n",
    "norm_img = norm_image(cv2.imread('./data/zoom/number_7/zoom_ggd_5.png'), top_h, top_w, low_h, low_w)\n",
    "black, white = count_black(norm_img, 0, 0, 200, 200)\n",
    "\n",
    "black1, white1 = count_black(norm_img, 0, 0, 100, 100)\n",
    "black2, white2 = count_black(norm_img, 100, 0, 200, 100)\n",
    "black3, white3 = count_black(norm_img, 0, 100, 100, 200)\n",
    "black4, white4 = count_black(norm_img, 100, 100, 200, 200)\n",
    "ratio1 = black1 / white1\n",
    "ratio2 = black2 / white2\n",
    "ratio3 = black3 / white3\n",
    "ratio4 = black3 / white4\n",
    "ratio = (top_h - low_h) / (top_w - low_w)\n",
    "\n",
    "test = np.array([ratio1, ratio2, ratio3, ratio4])\n",
    "\n",
    "value = []\n",
    "for i in range(0, len(np_ratio)):\n",
    "    value.append(cosine(test, np_ratio[i]))\n",
    "\n",
    "total = 0\n",
    "\n",
    "for i in range(0, len(value)):\n",
    "    total += value[i]\n",
    "    if i % 4 == 0:\n",
    "        print(\"%d: %f\" % (i/4, total / 4))\n",
    "        total = 0\n"
   ]
  },
  {
   "cell_type": "code",
   "execution_count": 141,
   "metadata": {},
   "outputs": [
    {
     "name": "stderr",
     "output_type": "stream",
     "text": [
      "/home/user/anaconda3/lib/python3.6/site-packages/scipy/spatial/distance.py:702: RuntimeWarning: invalid value encountered in double_scalars\n",
      "  dist = 1.0 - uv / np.sqrt(uu * vv)\n"
     ]
    },
    {
     "data": {
      "text/plain": [
       "nan"
      ]
     },
     "execution_count": 141,
     "metadata": {},
     "output_type": "execute_result"
    }
   ],
   "source": [
    "cosine(np.zeros((3,)), np.zeros(3,))"
   ]
  },
  {
   "cell_type": "code",
   "execution_count": null,
   "metadata": {},
   "outputs": [],
   "source": []
  }
 ],
 "metadata": {
  "colab": {
   "collapsed_sections": [],
   "name": "Feature_extraction.ipynb",
   "provenance": [],
   "version": "0.3.2"
  },
  "kernelspec": {
   "display_name": "Python 3",
   "language": "python",
   "name": "python3"
  },
  "language_info": {
   "codemirror_mode": {
    "name": "ipython",
    "version": 3
   },
   "file_extension": ".py",
   "mimetype": "text/x-python",
   "name": "python",
   "nbconvert_exporter": "python",
   "pygments_lexer": "ipython3",
   "version": "3.6.8"
  }
 },
 "nbformat": 4,
 "nbformat_minor": 1
}
