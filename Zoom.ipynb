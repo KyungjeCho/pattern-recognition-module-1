{
 "cells": [
  {
   "cell_type": "code",
   "execution_count": 54,
   "metadata": {
    "colab": {
     "base_uri": "https://localhost:8080/",
     "height": 1012
    },
    "colab_type": "code",
    "executionInfo": {
     "elapsed": 12412,
     "status": "ok",
     "timestamp": 1554195876866,
     "user": {
      "displayName": "조경제",
      "photoUrl": "",
      "userId": "15069193871467898037"
     },
     "user_tz": -540
    },
    "id": "PQMAhqDQL4BZ",
    "outputId": "41ee04c7-3053-48f1-d050-a28570bcab49"
   },
   "outputs": [],
   "source": [
    "# Zomm 하는 함수\n",
    "import matplotlib.pyplot as plt\n",
    "%matplotlib inline\n",
    "import numpy as np\n",
    "import cv2\n",
    "\n",
    "def zoom(img_path: str, times=1): \n",
    "    \"\"\"\n",
    "    줌을 위한 함수\n",
    "    \n",
    "    img_path: 원본 이미지 경로 str\n",
    "    times : 확대 배율 \n",
    "        ex) 2일 경우 두배\n",
    "    return : 줌한 결과 이미지 배열 numpy.array\n",
    "    \"\"\"\n",
    "    \n",
    "    img = cv2.imread(img_path)\n",
    "    # HACK: times가 0~ 1 사이 float 값일 경우 결과 이미지가 검해진다.\n",
    "    res = cv2.resize(img, None, fx=times, fy=times, interpolation=cv2.INTER_AREA)\n",
    "    \n",
    "    img_width = len(img)\n",
    "    img_height = len(img[0])\n",
    "\n",
    "    dst = np.zeros(img.shape) + 255.\n",
    "    \n",
    "    if times >= 1:\n",
    "        start = times * 100 - 100\n",
    "        end = start + 200\n",
    "\n",
    "        dst = res[start:end, start:end]\n",
    "    else:\n",
    "        raise(\"times must be over 0\")\n",
    "        \n",
    "    return dst\n"
   ]
  },
  {
   "cell_type": "code",
   "execution_count": 55,
   "metadata": {
    "colab": {},
    "colab_type": "code",
    "id": "amNVqQYOQ3eh"
   },
   "outputs": [],
   "source": [
    "import os, shutil\n",
    "\n",
    "base_dir = './data/'\n",
    "\n",
    "fonts = ['gl', 'ggd', 'smj', 'gsc']\n",
    "\n",
    "numbers = range(10)\n",
    "\n",
    "times = range(1, 6)\n",
    "\n",
    "zoom_dir = base_dir + 'zoom/'\n",
    "\n",
    "if not os.path.exists(zoom_dir):\n",
    "    os.mkdir(zoom_dir)\n",
    "    \n",
    "for number in numbers:\n",
    "    for font in fonts:\n",
    "        for time in times:\n",
    "            raw_dir = base_dir + 'raw/'\n",
    "            number_dir = zoom_dir + 'number_' + str(number) + '/'\n",
    "            \n",
    "            if not os.path.exists(number_dir):\n",
    "                os.mkdir(number_dir)\n",
    "            \n",
    "            img = zoom(raw_dir + 'raw_' + font + '_' + str(number)+'.png', time)\n",
    "            cv2.imwrite(number_dir + 'zoom_' + font + '_' + str(time) + '.png', img)\n",
    "            "
   ]
  },
  {
   "cell_type": "code",
   "execution_count": null,
   "metadata": {
    "collapsed": true
   },
   "outputs": [],
   "source": []
  }
 ],
 "metadata": {
  "colab": {
   "name": "Zoom.ipynb",
   "provenance": [],
   "version": "0.3.2"
  },
  "kernelspec": {
   "display_name": "Python 3",
   "language": "python",
   "name": "python3"
  },
  "language_info": {
   "codemirror_mode": {
    "name": "ipython",
    "version": 3
   },
   "file_extension": ".py",
   "mimetype": "text/x-python",
   "name": "python",
   "nbconvert_exporter": "python",
   "pygments_lexer": "ipython3",
   "version": "3.6.3"
  }
 },
 "nbformat": 4,
 "nbformat_minor": 1
}
